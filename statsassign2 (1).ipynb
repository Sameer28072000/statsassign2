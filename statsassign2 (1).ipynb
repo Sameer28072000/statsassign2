{
 "cells": [
  {
   "cell_type": "markdown",
   "id": "ab565355-d37d-4438-8378-aa7905e14f12",
   "metadata": {},
   "source": [
    "Q1. What is the Probability density function?"
   ]
  },
  {
   "cell_type": "code",
   "execution_count": null,
   "id": "eaa41288-83cc-4763-acbb-29c57c4db8b9",
   "metadata": {},
   "outputs": [],
   "source": [
    "Ans:-The Probability Dnesity function is the continous random variable it is lying between specific range of values."
   ]
  },
  {
   "cell_type": "markdown",
   "id": "a7a2f4a6-2783-44a2-aac4-6a5c48cc92fd",
   "metadata": {},
   "source": [
    "Q2. What are the types of Probability distribution?"
   ]
  },
  {
   "cell_type": "code",
   "execution_count": null,
   "id": "4c3fd091-7367-4cb1-abd0-09cd5c900d5d",
   "metadata": {},
   "outputs": [],
   "source": [
    "Ans:-\n",
    "Two types of Probability Distribution are\n",
    "i.Discrete Probability Distribution.\n",
    "ii.Continous Probability Distribution."
   ]
  },
  {
   "cell_type": "markdown",
   "id": "b8844f52-c77d-451d-a4b9-50abbe9383b4",
   "metadata": {},
   "source": [
    "Q3. Write a Python function to calculate the probability density function of a normal distribution with\n",
    "given mean and standard deviation at a given point."
   ]
  },
  {
   "cell_type": "code",
   "execution_count": null,
   "id": "b541a0a1-626d-4720-9f3f-b2be8826d522",
   "metadata": {},
   "outputs": [],
   "source": [
    "Ans:-\n",
    "pdf = normal_dist(x,mean,sd)."
   ]
  },
  {
   "cell_type": "markdown",
   "id": "036f89bf-b025-469b-9141-88b42b1e7a73",
   "metadata": {},
   "source": [
    "Q4. What are the properties of Binomial distribution? Give two examples of events where binomial\n",
    "distribution can be applied."
   ]
  },
  {
   "cell_type": "code",
   "execution_count": null,
   "id": "b8ac8a5e-5aef-4f50-8ed4-438e0b75e35e",
   "metadata": {},
   "outputs": [],
   "source": [
    "Ans:-The properties of Binomial distribution are location,spread & shape.\n",
    "If a coin toss for once it will give 2 outcomes i.e head & tail.\n",
    "Prob(H)=1/2\n",
    "Prob(T)=1/2"
   ]
  },
  {
   "cell_type": "markdown",
   "id": "075c5a49-6323-4ac9-8ae1-b3330debe2aa",
   "metadata": {},
   "source": [
    "Q5. Generate a random sample of size 1000 from a binomial distribution with probability of success 0.4\n",
    "and plot a histogram of the results using matplotlib."
   ]
  },
  {
   "cell_type": "code",
   "execution_count": 12,
   "id": "fbab9954-7486-452d-a33c-3ac0060b7014",
   "metadata": {},
   "outputs": [
    {
     "data": {
      "image/png": "[encoded data removed]",
      "text/plain": [
       "<Figure size 1000x500 with 1 Axes>"
      ]
     },
     "metadata": {},
     "output_type": "display_data"
    }
   ],
   "source": [
    "Ans:-\n",
    "\n",
    "import numpy as np\n",
    "import matplotlib.pyplot as plt\n",
    "plt.figure(figsize=(10,5))\n",
    "n, p = 10,0.4 \n",
    "s = np.random.binomial(n, p, 1000)\n",
    "plt.hist(s)\n",
    "plt.show()           "
   ]
  },
  {
   "cell_type": "markdown",
   "id": "b7b735ab-8ea0-4c4c-9880-0143579c7ac3",
   "metadata": {},
   "source": [
    "Q6. Write a Python function to calculate the cumulative distribution function of a Poisson distribution\n",
    "with given mean at a given point."
   ]
  },
  {
   "cell_type": "code",
   "execution_count": null,
   "id": "defa06f7-a88c-4227-9b9d-3d174811aee1",
   "metadata": {},
   "outputs": [],
   "source": [
    "Ans:-P(X) = P (X<= X)"
   ]
  },
  {
   "cell_type": "markdown",
   "id": "a2249b15-ebb0-4478-8926-ba00b1349ee9",
   "metadata": {},
   "source": [
    "Q7. How Binomial distribution different from Poisson distribution?"
   ]
  },
  {
   "cell_type": "code",
   "execution_count": null,
   "id": "4c841da2-443f-4833-b3e6-2dea1f255356",
   "metadata": {},
   "outputs": [],
   "source": [
    "Ans:-The main Diff. between Binomial Poission Distribution\n",
    "In Binomial Distribution the number of outcomes will be only 2\n",
    "whereas Poission Distribution the number of outcomes will ne unlimited "
   ]
  },
  {
   "cell_type": "markdown",
   "id": "231bfde9-fc30-4ba7-83d8-22cad5797154",
   "metadata": {},
   "source": [
    "Q8. Generate a random sample of size 1000 from a Poisson distribution with mean 5 and calculate the\n",
    "sample mean and variance."
   ]
  },
  {
   "cell_type": "code",
   "execution_count": 26,
   "id": "c5af2456-9546-4cf9-9942-52b84572befd",
   "metadata": {},
   "outputs": [
    {
     "data": {
      "text/plain": [
       "(5.081, 4.630439)"
      ]
     },
     "execution_count": 26,
     "metadata": {},
     "output_type": "execute_result"
    }
   ],
   "source": [
    "import numpy as np\n",
    "s = np.random.poisson(5, 1000)\n",
    "(np.mean(s),np.var(s))\n",
    "\n"
   ]
  },
  {
   "cell_type": "markdown",
   "id": "1c02fc32-27b6-4339-8b01-b8e3fee32772",
   "metadata": {},
   "source": [
    "Q9. How mean and variance are related in Binomial distribution and Poisson distribution?"
   ]
  },
  {
   "cell_type": "code",
   "execution_count": null,
   "id": "dc7f4f7a-c464-48ed-aca5-a7cb57ac4cf0",
   "metadata": {},
   "outputs": [],
   "source": [
    "Ans:-\n",
    "In binomial distribution mean > variance \n",
    "whereas poisson distribution mean = variance."
   ]
  },
  {
   "cell_type": "markdown",
   "id": "90125b1e-97f5-4ed6-927b-2e4e38508154",
   "metadata": {},
   "source": [
    "Q10. In normal distribution with respect to mean position, where does the least frequent data appear?"
   ]
  },
  {
   "cell_type": "code",
   "execution_count": null,
   "id": "11c5c7fc-7e8e-478c-b8e2-8db9ebd75243",
   "metadata": {},
   "outputs": [],
   "source": [
    "Ans:-In normal Distribution will get the symmetric curve \n",
    "because mean,mode & meadian are lie at the centre of the distribution"
   ]
  }
 ],
 "metadata": {
  "kernelspec": {
   "display_name": "Python 3 (ipykernel)",
   "language": "python",
   "name": "python3"
  },
  "language_info": {
   "codemirror_mode": {
    "name": "ipython",
    "version": 3
   },
   "file_extension": ".py",
   "mimetype": "text/x-python",
   "name": "python",
   "nbconvert_exporter": "python",
   "pygments_lexer": "ipython3",
   "version": "3.10.8"
  }
 },
 "nbformat": 4,
 "nbformat_minor": 5
}
